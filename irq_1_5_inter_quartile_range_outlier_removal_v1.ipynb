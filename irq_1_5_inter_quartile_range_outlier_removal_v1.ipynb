{
  "nbformat": 4,
  "nbformat_minor": 0,
  "metadata": {
    "colab": {
      "provenance": []
    },
    "kernelspec": {
      "name": "python3",
      "display_name": "Python 3"
    },
    "language_info": {
      "name": "python"
    }
  },
  "cells": [
    {
      "cell_type": "markdown",
      "metadata": {
        "id": "puWw48Grcp1f"
      },
      "source": [
        "## Standard 1.5 IQR with box-wisker-plot visualization\n",
        "\n",
        "\"1.5 Interquartile Range\" is a standard way to defined 'outlier' within a dataset.\n",
        "\n",
        "The Inter Quartile Range is the range between the lower (or 1st)quartile and the upper (or 3rd) quartile.\n",
        "\n",
        "This is what you see on a box an whisker plot. Everything in the box (with the median being the 'middle' line, is in that range.\n",
        "\n",
        "A standard way of screening for outliners, is to exclude data that are outside of that box +- 1.5 * IQR (the inter quartile range). So not just 1.5x the box size, but that box plus and minus 1.5x the box size (so more like 4x the box size). This includes all but signficantly extreme outliers in terms of median and quartiles."
      ]
    },
    {
      "cell_type": "code",
      "execution_count": 66,
      "metadata": {
        "id": "qlze6eY27W4l"
      },
      "outputs": [],
      "source": [
        "import numpy as np\n",
        "import pandas as pd\n",
        "from scipy.stats import t\n",
        "import seaborn as sns\n",
        "from scipy import stats"
      ]
    },
    {
      "cell_type": "markdown",
      "source": [
        "# Demo Data with Outliers\n"
      ],
      "metadata": {
        "id": "N6BOm7YQ-GI4"
      }
    },
    {
      "cell_type": "code",
      "source": [
        "# Making random data with visible outliers\n",
        "\n",
        "# Set the seed for reproducibility\n",
        "np.random.seed(0)\n",
        "\n",
        "# Use the t-distribution with 5 degrees of freedom to generate more outliers\n",
        "data = t.rvs(5, size=100000)\n",
        "\n",
        "# Create a DataFrame\n",
        "df = pd.DataFrame(data, columns=['YOUR_TARGET_FIELD'])\n",
        "\n",
        "# Print the first few rows of the DataFrame\n",
        "print(df.head())"
      ],
      "metadata": {
        "colab": {
          "base_uri": "https://localhost:8080/"
        },
        "id": "j19qSCKv-GPx",
        "outputId": "85c81f43-16b0-44c4-db57-ddf448e3b413"
      },
      "execution_count": 67,
      "outputs": [
        {
          "output_type": "stream",
          "name": "stdout",
          "text": [
            "   YOUR_TARGET_FIELD\n",
            "0           1.663706\n",
            "1          -1.640095\n",
            "2           1.075371\n",
            "3           1.632332\n",
            "4           0.784826\n"
          ]
        }
      ]
    },
    {
      "cell_type": "markdown",
      "metadata": {
        "id": "Wn0Zo-oBRIln"
      },
      "source": [
        "# IQR & 1.5 IQR calculations"
      ]
    },
    {
      "cell_type": "code",
      "source": [
        "TARGET = \"YOUR_TARGET_FIELD\""
      ],
      "metadata": {
        "id": "n4ZYkB_08Rtz"
      },
      "execution_count": 68,
      "outputs": []
    },
    {
      "cell_type": "code",
      "metadata": {
        "colab": {
          "base_uri": "https://localhost:8080/",
          "height": 335
        },
        "id": "XaAq8Gi6OGr9",
        "outputId": "85941c6c-f004-4057-8e20-99c5c6cae7c8"
      },
      "source": [
        "df[TARGET].describe()"
      ],
      "execution_count": 69,
      "outputs": [
        {
          "output_type": "execute_result",
          "data": {
            "text/plain": [
              "count    100000.000000\n",
              "mean          0.006905\n",
              "std           1.286519\n",
              "min         -16.753782\n",
              "25%          -0.723608\n",
              "50%           0.004098\n",
              "75%           0.727047\n",
              "max          14.982629\n",
              "Name: YOUR_TARGET_FIELD, dtype: float64"
            ],
            "text/html": [
              "<div>\n",
              "<style scoped>\n",
              "    .dataframe tbody tr th:only-of-type {\n",
              "        vertical-align: middle;\n",
              "    }\n",
              "\n",
              "    .dataframe tbody tr th {\n",
              "        vertical-align: top;\n",
              "    }\n",
              "\n",
              "    .dataframe thead th {\n",
              "        text-align: right;\n",
              "    }\n",
              "</style>\n",
              "<table border=\"1\" class=\"dataframe\">\n",
              "  <thead>\n",
              "    <tr style=\"text-align: right;\">\n",
              "      <th></th>\n",
              "      <th>YOUR_TARGET_FIELD</th>\n",
              "    </tr>\n",
              "  </thead>\n",
              "  <tbody>\n",
              "    <tr>\n",
              "      <th>count</th>\n",
              "      <td>100000.000000</td>\n",
              "    </tr>\n",
              "    <tr>\n",
              "      <th>mean</th>\n",
              "      <td>0.006905</td>\n",
              "    </tr>\n",
              "    <tr>\n",
              "      <th>std</th>\n",
              "      <td>1.286519</td>\n",
              "    </tr>\n",
              "    <tr>\n",
              "      <th>min</th>\n",
              "      <td>-16.753782</td>\n",
              "    </tr>\n",
              "    <tr>\n",
              "      <th>25%</th>\n",
              "      <td>-0.723608</td>\n",
              "    </tr>\n",
              "    <tr>\n",
              "      <th>50%</th>\n",
              "      <td>0.004098</td>\n",
              "    </tr>\n",
              "    <tr>\n",
              "      <th>75%</th>\n",
              "      <td>0.727047</td>\n",
              "    </tr>\n",
              "    <tr>\n",
              "      <th>max</th>\n",
              "      <td>14.982629</td>\n",
              "    </tr>\n",
              "  </tbody>\n",
              "</table>\n",
              "</div><br><label><b>dtype:</b> float64</label>"
            ]
          },
          "metadata": {},
          "execution_count": 69
        }
      ]
    },
    {
      "cell_type": "code",
      "metadata": {
        "id": "4blZP6zhYjMr",
        "colab": {
          "base_uri": "https://localhost:8080/"
        },
        "outputId": "8bde87bd-ed17-405d-f29a-a447c7a1fd4a"
      },
      "source": [
        "# Print quartiles lower, upper\n",
        "\n",
        "# see https://www.statology.org/remove-outliers-python/\n",
        "\n",
        "# IQR or Inter Quartile Range\n",
        "# is a standard, conservative, statical method\n",
        "# for separating 'outliers' that are significally\n",
        "# outside of the normal distribution\n",
        "#\n",
        "quartile_1 = df[TARGET].quantile(q=.25)\n",
        "print(\"lower quartile is: \", quartile_1)\n",
        "quartile_3 = df[TARGET].quantile(q=.75)\n",
        "print(\"upper quartile is: \", quartile_3)"
      ],
      "execution_count": 70,
      "outputs": [
        {
          "output_type": "stream",
          "name": "stdout",
          "text": [
            "lower quartile is:  -0.7236075315520926\n",
            "upper quartile is:  0.727046725090289\n"
          ]
        }
      ]
    },
    {
      "cell_type": "code",
      "metadata": {
        "id": "_0tCqjqxZYLt",
        "colab": {
          "base_uri": "https://localhost:8080/"
        },
        "outputId": "84c8ccaf-759e-4ccf-cc9e-25005fb7c6a0"
      },
      "source": [
        "IQR = quartile_3 - quartile_1\n",
        "print(\"IQR             = \", IQR)\n",
        "size_irq_1_5 = IQR * 1.5\n",
        "print(\"size of 1.5 IQR = \", size_irq_1_5)"
      ],
      "execution_count": 71,
      "outputs": [
        {
          "output_type": "stream",
          "name": "stdout",
          "text": [
            "IQR             =  1.4506542566423817\n",
            "size of 1.5 IQR =  2.1759813849635723\n"
          ]
        }
      ]
    },
    {
      "cell_type": "code",
      "metadata": {
        "colab": {
          "base_uri": "https://localhost:8080/"
        },
        "id": "pWD20qSUIP6a",
        "outputId": "0feab8dd-4107-431c-ffab-995ff9503c26"
      },
      "source": [
        "lower_1_5_iqr_limit = quartile_1 - size_irq_1_5\n",
        "print(\"lower range = \", lower_1_5_iqr_limit)\n",
        "\n",
        "upper_1_5_iqr_limit = quartile_1 + size_irq_1_5\n",
        "print(\"upper range = \", upper_1_5_iqr_limit)"
      ],
      "execution_count": 72,
      "outputs": [
        {
          "output_type": "stream",
          "name": "stdout",
          "text": [
            "lower range =  -2.8995889165156647\n",
            "upper range =  1.4523738534114798\n"
          ]
        }
      ]
    },
    {
      "cell_type": "code",
      "metadata": {
        "id": "B7wmvwAHcQgg"
      },
      "source": [
        "\"\"\"\n",
        "now, separate what is inside or outside of this new\n",
        "1.5 IQR (inter quartile range\n",
        "\"\"\"\n",
        "\n",
        "# variables for clarity\n",
        "data = df[TARGET]\n",
        "low = lower_1_5_iqr_limit\n",
        "high = upper_1_5_iqr_limit\n",
        "\n",
        "# filter out rows not in 1.5 IQR\n",
        "iqr1_5_filter = data[(data > low) & (data < high)]"
      ],
      "execution_count": 73,
      "outputs": []
    },
    {
      "cell_type": "markdown",
      "metadata": {
        "id": "9HqlhzLPMX9m"
      },
      "source": [
        "## view TARGET before and after filtering"
      ]
    },
    {
      "cell_type": "code",
      "metadata": {
        "colab": {
          "base_uri": "https://localhost:8080/",
          "height": 467
        },
        "id": "WrPEdKZUMkaG",
        "outputId": "8fa2c7a3-d533-43d0-87f6-a88e0b6d16bc"
      },
      "source": [
        "## view TARGET before filtering\n",
        "sns.boxplot(x=df[TARGET])"
      ],
      "execution_count": 74,
      "outputs": [
        {
          "output_type": "execute_result",
          "data": {
            "text/plain": [
              "<Axes: xlabel='YOUR_TARGET_FIELD'>"
            ]
          },
          "metadata": {},
          "execution_count": 74
        },
        {
          "output_type": "display_data",
          "data": {
            "text/plain": [
              "<Figure size 640x480 with 1 Axes>"
            ],
            "image/png": "[encoded data removed]"
          },
          "metadata": {}
        }
      ]
    },
    {
      "cell_type": "code",
      "metadata": {
        "id": "Uc1gMzKgcTt5",
        "colab": {
          "base_uri": "https://localhost:8080/",
          "height": 467
        },
        "outputId": "2361fa75-08bd-47ba-f02d-249c9b76e872"
      },
      "source": [
        "## view TARGET after filtering\n",
        "sns.boxplot(x=iqr1_5_filter)"
      ],
      "execution_count": 75,
      "outputs": [
        {
          "output_type": "execute_result",
          "data": {
            "text/plain": [
              "<Axes: xlabel='YOUR_TARGET_FIELD'>"
            ]
          },
          "metadata": {},
          "execution_count": 75
        },
        {
          "output_type": "display_data",
          "data": {
            "text/plain": [
              "<Figure size 640x480 with 1 Axes>"
            ],
            "image/png": "[encoded data removed]"
          },
          "metadata": {}
        }
      ]
    },
    {
      "cell_type": "code",
      "metadata": {
        "id": "lgrMFnD4cbsp",
        "colab": {
          "base_uri": "https://localhost:8080/"
        },
        "outputId": "849f8d5d-c6f4-4fd2-9387-fc385fd43864"
      },
      "source": [
        "# Range\n",
        "range = iqr1_5_filter.max() - iqr1_5_filter.min()\n",
        "print(\"range = \", range)"
      ],
      "execution_count": 76,
      "outputs": [
        {
          "output_type": "stream",
          "name": "stdout",
          "text": [
            "range =  4.35170791091406\n"
          ]
        }
      ]
    },
    {
      "cell_type": "code",
      "metadata": {
        "id": "uzjIzcNCcbwS",
        "colab": {
          "base_uri": "https://localhost:8080/"
        },
        "outputId": "95e54cb7-cd31-4b14-d52b-c5755cdcfb25"
      },
      "source": [
        "# Mean\n",
        "mean = np.mean(iqr1_5_filter)\n",
        "print(\"mean = \", mean)"
      ],
      "execution_count": 77,
      "outputs": [
        {
          "output_type": "stream",
          "name": "stdout",
          "text": [
            "mean =  -0.18938526722570476\n"
          ]
        }
      ]
    },
    {
      "cell_type": "code",
      "metadata": {
        "id": "HHmVR8r1cb0O",
        "colab": {
          "base_uri": "https://localhost:8080/"
        },
        "outputId": "61010bad-a189-4cf6-a0a9-f8fbbba86ce0"
      },
      "source": [
        "# Median\n",
        "median = np.median(iqr1_5_filter)\n",
        "print(\"median = \", median)"
      ],
      "execution_count": 78,
      "outputs": [
        {
          "output_type": "stream",
          "name": "stdout",
          "text": [
            "median =  -0.10831480667761187\n"
          ]
        }
      ]
    },
    {
      "cell_type": "code",
      "metadata": {
        "id": "Dil49a2kchzv",
        "colab": {
          "base_uri": "https://localhost:8080/"
        },
        "outputId": "0a547df2-22c3-45a2-8b8d-1b85825eaece"
      },
      "source": [
        "# Mode\n",
        "mode = stats.mode(iqr1_5_filter)[0]\n",
        "print(\"mode = \", mode)"
      ],
      "execution_count": 79,
      "outputs": [
        {
          "output_type": "stream",
          "name": "stdout",
          "text": [
            "mode =  -2.8994891350804126\n"
          ]
        }
      ]
    },
    {
      "cell_type": "code",
      "metadata": {
        "colab": {
          "base_uri": "https://localhost:8080/"
        },
        "id": "EAJ-vYo9I695",
        "outputId": "349e37ff-3439-4186-bb94-f654cce71475"
      },
      "source": [
        "iqr1_5_filter.shape"
      ],
      "execution_count": 80,
      "outputs": [
        {
          "output_type": "execute_result",
          "data": {
            "text/plain": [
              "(88052,)"
            ]
          },
          "metadata": {},
          "execution_count": 80
        }
      ]
    },
    {
      "cell_type": "code",
      "metadata": {
        "colab": {
          "base_uri": "https://localhost:8080/",
          "height": 115
        },
        "id": "OzCAmqJMJC3i",
        "outputId": "90471c46-e9de-4ccd-f743-2c35f88707d4"
      },
      "source": [
        "iqr1_5_filter.head(1)"
      ],
      "execution_count": 81,
      "outputs": [
        {
          "output_type": "execute_result",
          "data": {
            "text/plain": [
              "1   -1.640095\n",
              "Name: YOUR_TARGET_FIELD, dtype: float64"
            ],
            "text/html": [
              "<div>\n",
              "<style scoped>\n",
              "    .dataframe tbody tr th:only-of-type {\n",
              "        vertical-align: middle;\n",
              "    }\n",
              "\n",
              "    .dataframe tbody tr th {\n",
              "        vertical-align: top;\n",
              "    }\n",
              "\n",
              "    .dataframe thead th {\n",
              "        text-align: right;\n",
              "    }\n",
              "</style>\n",
              "<table border=\"1\" class=\"dataframe\">\n",
              "  <thead>\n",
              "    <tr style=\"text-align: right;\">\n",
              "      <th></th>\n",
              "      <th>YOUR_TARGET_FIELD</th>\n",
              "    </tr>\n",
              "  </thead>\n",
              "  <tbody>\n",
              "    <tr>\n",
              "      <th>1</th>\n",
              "      <td>-1.640095</td>\n",
              "    </tr>\n",
              "  </tbody>\n",
              "</table>\n",
              "</div><br><label><b>dtype:</b> float64</label>"
            ]
          },
          "metadata": {},
          "execution_count": 81
        }
      ]
    },
    {
      "cell_type": "markdown",
      "metadata": {
        "id": "w3VRX5-URM8z"
      },
      "source": [
        " # TARGET IQR: compare"
      ]
    },
    {
      "cell_type": "code",
      "source": [
        "df[TARGET].describe()"
      ],
      "metadata": {
        "colab": {
          "base_uri": "https://localhost:8080/",
          "height": 335
        },
        "id": "l4FaqF2b_Qkz",
        "outputId": "d7a60ec4-eb65-4b77-b197-3746e1042713"
      },
      "execution_count": 82,
      "outputs": [
        {
          "output_type": "execute_result",
          "data": {
            "text/plain": [
              "count    100000.000000\n",
              "mean          0.006905\n",
              "std           1.286519\n",
              "min         -16.753782\n",
              "25%          -0.723608\n",
              "50%           0.004098\n",
              "75%           0.727047\n",
              "max          14.982629\n",
              "Name: YOUR_TARGET_FIELD, dtype: float64"
            ],
            "text/html": [
              "<div>\n",
              "<style scoped>\n",
              "    .dataframe tbody tr th:only-of-type {\n",
              "        vertical-align: middle;\n",
              "    }\n",
              "\n",
              "    .dataframe tbody tr th {\n",
              "        vertical-align: top;\n",
              "    }\n",
              "\n",
              "    .dataframe thead th {\n",
              "        text-align: right;\n",
              "    }\n",
              "</style>\n",
              "<table border=\"1\" class=\"dataframe\">\n",
              "  <thead>\n",
              "    <tr style=\"text-align: right;\">\n",
              "      <th></th>\n",
              "      <th>YOUR_TARGET_FIELD</th>\n",
              "    </tr>\n",
              "  </thead>\n",
              "  <tbody>\n",
              "    <tr>\n",
              "      <th>count</th>\n",
              "      <td>100000.000000</td>\n",
              "    </tr>\n",
              "    <tr>\n",
              "      <th>mean</th>\n",
              "      <td>0.006905</td>\n",
              "    </tr>\n",
              "    <tr>\n",
              "      <th>std</th>\n",
              "      <td>1.286519</td>\n",
              "    </tr>\n",
              "    <tr>\n",
              "      <th>min</th>\n",
              "      <td>-16.753782</td>\n",
              "    </tr>\n",
              "    <tr>\n",
              "      <th>25%</th>\n",
              "      <td>-0.723608</td>\n",
              "    </tr>\n",
              "    <tr>\n",
              "      <th>50%</th>\n",
              "      <td>0.004098</td>\n",
              "    </tr>\n",
              "    <tr>\n",
              "      <th>75%</th>\n",
              "      <td>0.727047</td>\n",
              "    </tr>\n",
              "    <tr>\n",
              "      <th>max</th>\n",
              "      <td>14.982629</td>\n",
              "    </tr>\n",
              "  </tbody>\n",
              "</table>\n",
              "</div><br><label><b>dtype:</b> float64</label>"
            ]
          },
          "metadata": {},
          "execution_count": 82
        }
      ]
    },
    {
      "cell_type": "code",
      "metadata": {
        "colab": {
          "base_uri": "https://localhost:8080/",
          "height": 335
        },
        "id": "qFQgNCwiRfLl",
        "outputId": "b5ed3195-3f5d-4e3c-cba0-6a9e58979224"
      },
      "source": [
        "iqr1_5_filter.describe()"
      ],
      "execution_count": 83,
      "outputs": [
        {
          "output_type": "execute_result",
          "data": {
            "text/plain": [
              "count    88052.000000\n",
              "mean        -0.189385\n",
              "std          0.905967\n",
              "min         -2.899489\n",
              "25%         -0.774013\n",
              "50%         -0.108315\n",
              "75%          0.487689\n",
              "max          1.452219\n",
              "Name: YOUR_TARGET_FIELD, dtype: float64"
            ],
            "text/html": [
              "<div>\n",
              "<style scoped>\n",
              "    .dataframe tbody tr th:only-of-type {\n",
              "        vertical-align: middle;\n",
              "    }\n",
              "\n",
              "    .dataframe tbody tr th {\n",
              "        vertical-align: top;\n",
              "    }\n",
              "\n",
              "    .dataframe thead th {\n",
              "        text-align: right;\n",
              "    }\n",
              "</style>\n",
              "<table border=\"1\" class=\"dataframe\">\n",
              "  <thead>\n",
              "    <tr style=\"text-align: right;\">\n",
              "      <th></th>\n",
              "      <th>YOUR_TARGET_FIELD</th>\n",
              "    </tr>\n",
              "  </thead>\n",
              "  <tbody>\n",
              "    <tr>\n",
              "      <th>count</th>\n",
              "      <td>88052.000000</td>\n",
              "    </tr>\n",
              "    <tr>\n",
              "      <th>mean</th>\n",
              "      <td>-0.189385</td>\n",
              "    </tr>\n",
              "    <tr>\n",
              "      <th>std</th>\n",
              "      <td>0.905967</td>\n",
              "    </tr>\n",
              "    <tr>\n",
              "      <th>min</th>\n",
              "      <td>-2.899489</td>\n",
              "    </tr>\n",
              "    <tr>\n",
              "      <th>25%</th>\n",
              "      <td>-0.774013</td>\n",
              "    </tr>\n",
              "    <tr>\n",
              "      <th>50%</th>\n",
              "      <td>-0.108315</td>\n",
              "    </tr>\n",
              "    <tr>\n",
              "      <th>75%</th>\n",
              "      <td>0.487689</td>\n",
              "    </tr>\n",
              "    <tr>\n",
              "      <th>max</th>\n",
              "      <td>1.452219</td>\n",
              "    </tr>\n",
              "  </tbody>\n",
              "</table>\n",
              "</div><br><label><b>dtype:</b> float64</label>"
            ]
          },
          "metadata": {},
          "execution_count": 83
        }
      ]
    }
  ]
}